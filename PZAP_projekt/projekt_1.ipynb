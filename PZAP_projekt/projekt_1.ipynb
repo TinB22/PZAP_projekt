{
 "cells": [
  {
   "cell_type": "markdown",
   "id": "9eab29b5-cbde-4132-a844-e2f85b55fdce",
   "metadata": {},
   "source": [
    "### UVOD"
   ]
  },
  {
   "cell_type": "markdown",
   "id": "112ca564-fc07-4a09-8537-8230128e4718",
   "metadata": {},
   "source": [
    "        Motivacija za izbor ove teme je zapravo posao kojim se trenutno bavim (analiza podataka i strojno učenje za jednu tvrtku koja se bavi energetikom i automatizacijom). Ali ovu temu sam izabrao i zato što je sve veća potrebe za analizom i predviđanjem učinkovitosti toplinskih pumpi koje se koriste u industriji. Održavanje temperature ćelija unutar prihvatljivih granica ključno je za stabilan rad sustava i izbjegavanje potencijalnih kvarova. Analiza podataka o temperaturama, kao i predviđanje mogućih anomalija, omogućuju pravovremenu reakciju i poboljšavaju učinkovitost održavanja. Cilj ovog projekta bio je analizirati povijesne podatke o temperaturama ćelija, otkriti moguće obrasce i razviti predikcijski model koji će pomoći u identifikaciji rizika od pregrijavanja."
   ]
  },
  {
   "cell_type": "markdown",
   "id": "61554ad5-c3f8-49c3-a718-0e8f61b7e3e2",
   "metadata": {},
   "source": [
    "        Tin Barbarić\n",
    "    Izjava o izvornosti\n",
    "    Izjavljujem da je ovaj projekt izvorni rezultat mojeg rada te da se u izradi istoga nisam koristio\n",
    "    drugim izvorima osim onima koji su u njemu navedeni. Za izradu rada su korištene etiˇcki\n",
    "    prikladne i prihvatljive metode i tehnike rada."
   ]
  },
  {
   "cell_type": "code",
   "execution_count": 2,
   "id": "1e17d2d1-1f59-497f-90f6-5de3177c429c",
   "metadata": {},
   "outputs": [
    {
     "data": {
      "text/html": [
       "<div>\n",
       "<style scoped>\n",
       "    .dataframe tbody tr th:only-of-type {\n",
       "        vertical-align: middle;\n",
       "    }\n",
       "\n",
       "    .dataframe tbody tr th {\n",
       "        vertical-align: top;\n",
       "    }\n",
       "\n",
       "    .dataframe thead th {\n",
       "        text-align: right;\n",
       "    }\n",
       "</style>\n",
       "<table border=\"1\" class=\"dataframe\">\n",
       "  <thead>\n",
       "    <tr style=\"text-align: right;\">\n",
       "      <th></th>\n",
       "      <th>Hour</th>\n",
       "      <th>S0</th>\n",
       "      <th>S1</th>\n",
       "      <th>S2</th>\n",
       "      <th>S3</th>\n",
       "      <th>S4</th>\n",
       "      <th>S5</th>\n",
       "    </tr>\n",
       "  </thead>\n",
       "  <tbody>\n",
       "    <tr>\n",
       "      <th>0</th>\n",
       "      <td>00:00:54</td>\n",
       "      <td>54.8</td>\n",
       "      <td>50.4</td>\n",
       "      <td>49.8</td>\n",
       "      <td>49.4</td>\n",
       "      <td>50.6</td>\n",
       "      <td>47.5</td>\n",
       "    </tr>\n",
       "    <tr>\n",
       "      <th>1</th>\n",
       "      <td>00:01:54</td>\n",
       "      <td>54.1</td>\n",
       "      <td>50.2</td>\n",
       "      <td>49.6</td>\n",
       "      <td>49.4</td>\n",
       "      <td>50.7</td>\n",
       "      <td>47.5</td>\n",
       "    </tr>\n",
       "    <tr>\n",
       "      <th>2</th>\n",
       "      <td>00:02:54</td>\n",
       "      <td>54.2</td>\n",
       "      <td>50.5</td>\n",
       "      <td>49.9</td>\n",
       "      <td>49.3</td>\n",
       "      <td>50.4</td>\n",
       "      <td>47.3</td>\n",
       "    </tr>\n",
       "    <tr>\n",
       "      <th>3</th>\n",
       "      <td>00:03:54</td>\n",
       "      <td>54.6</td>\n",
       "      <td>50.5</td>\n",
       "      <td>50.0</td>\n",
       "      <td>49.2</td>\n",
       "      <td>50.4</td>\n",
       "      <td>47.3</td>\n",
       "    </tr>\n",
       "    <tr>\n",
       "      <th>4</th>\n",
       "      <td>00:04:54</td>\n",
       "      <td>55.0</td>\n",
       "      <td>50.5</td>\n",
       "      <td>49.9</td>\n",
       "      <td>49.2</td>\n",
       "      <td>50.4</td>\n",
       "      <td>47.3</td>\n",
       "    </tr>\n",
       "    <tr>\n",
       "      <th>...</th>\n",
       "      <td>...</td>\n",
       "      <td>...</td>\n",
       "      <td>...</td>\n",
       "      <td>...</td>\n",
       "      <td>...</td>\n",
       "      <td>...</td>\n",
       "      <td>...</td>\n",
       "    </tr>\n",
       "    <tr>\n",
       "      <th>1435</th>\n",
       "      <td>23:55:47</td>\n",
       "      <td>54.8</td>\n",
       "      <td>50.2</td>\n",
       "      <td>49.7</td>\n",
       "      <td>49.4</td>\n",
       "      <td>50.7</td>\n",
       "      <td>47.4</td>\n",
       "    </tr>\n",
       "    <tr>\n",
       "      <th>1436</th>\n",
       "      <td>23:56:47</td>\n",
       "      <td>54.9</td>\n",
       "      <td>50.8</td>\n",
       "      <td>50.2</td>\n",
       "      <td>49.2</td>\n",
       "      <td>50.3</td>\n",
       "      <td>47.1</td>\n",
       "    </tr>\n",
       "    <tr>\n",
       "      <th>1437</th>\n",
       "      <td>23:57:47</td>\n",
       "      <td>54.4</td>\n",
       "      <td>50.7</td>\n",
       "      <td>50.2</td>\n",
       "      <td>49.1</td>\n",
       "      <td>50.4</td>\n",
       "      <td>47.2</td>\n",
       "    </tr>\n",
       "    <tr>\n",
       "      <th>1438</th>\n",
       "      <td>23:58:47</td>\n",
       "      <td>54.3</td>\n",
       "      <td>50.7</td>\n",
       "      <td>49.9</td>\n",
       "      <td>49.3</td>\n",
       "      <td>50.5</td>\n",
       "      <td>47.4</td>\n",
       "    </tr>\n",
       "    <tr>\n",
       "      <th>1439</th>\n",
       "      <td>23:59:47</td>\n",
       "      <td>54.4</td>\n",
       "      <td>50.3</td>\n",
       "      <td>49.8</td>\n",
       "      <td>49.4</td>\n",
       "      <td>50.7</td>\n",
       "      <td>47.4</td>\n",
       "    </tr>\n",
       "  </tbody>\n",
       "</table>\n",
       "<p>1440 rows × 7 columns</p>\n",
       "</div>"
      ],
      "text/plain": [
       "          Hour    S0    S1    S2    S3    S4    S5\n",
       "0     00:00:54  54.8  50.4  49.8  49.4  50.6  47.5\n",
       "1     00:01:54  54.1  50.2  49.6  49.4  50.7  47.5\n",
       "2     00:02:54  54.2  50.5  49.9  49.3  50.4  47.3\n",
       "3     00:03:54  54.6  50.5  50.0  49.2  50.4  47.3\n",
       "4     00:04:54  55.0  50.5  49.9  49.2  50.4  47.3\n",
       "...        ...   ...   ...   ...   ...   ...   ...\n",
       "1435  23:55:47  54.8  50.2  49.7  49.4  50.7  47.4\n",
       "1436  23:56:47  54.9  50.8  50.2  49.2  50.3  47.1\n",
       "1437  23:57:47  54.4  50.7  50.2  49.1  50.4  47.2\n",
       "1438  23:58:47  54.3  50.7  49.9  49.3  50.5  47.4\n",
       "1439  23:59:47  54.4  50.3  49.8  49.4  50.7  47.4\n",
       "\n",
       "[1440 rows x 7 columns]"
      ]
     },
     "execution_count": 2,
     "metadata": {},
     "output_type": "execute_result"
    }
   ],
   "source": [
    "import pandas as pd\n",
    "import numpy as np\n",
    "\n",
    "df2018 = pd.read_csv(\"Funtana CCR1 - 20180718.csv\")\n",
    "df2019 = pd.read_excel(\"Funtana CCR1 - 20190718.xlsx\")\n",
    "df2020 = pd.read_excel(\"Funtana CCR1 - 20200718.xlsx\")\n",
    "\n",
    "df2018"
   ]
  },
  {
   "cell_type": "code",
   "execution_count": 3,
   "id": "07ce1786-221f-4b5b-9088-fc191ec4479c",
   "metadata": {},
   "outputs": [
    {
     "data": {
      "text/html": [
       "<div>\n",
       "<style scoped>\n",
       "    .dataframe tbody tr th:only-of-type {\n",
       "        vertical-align: middle;\n",
       "    }\n",
       "\n",
       "    .dataframe tbody tr th {\n",
       "        vertical-align: top;\n",
       "    }\n",
       "\n",
       "    .dataframe thead th {\n",
       "        text-align: right;\n",
       "    }\n",
       "</style>\n",
       "<table border=\"1\" class=\"dataframe\">\n",
       "  <thead>\n",
       "    <tr style=\"text-align: right;\">\n",
       "      <th></th>\n",
       "      <th>Hour</th>\n",
       "      <th>S0</th>\n",
       "      <th>S1</th>\n",
       "      <th>S2</th>\n",
       "      <th>S3</th>\n",
       "      <th>S4</th>\n",
       "      <th>S5</th>\n",
       "    </tr>\n",
       "  </thead>\n",
       "  <tbody>\n",
       "    <tr>\n",
       "      <th>0</th>\n",
       "      <td>00:00:01</td>\n",
       "      <td>65.4</td>\n",
       "      <td>48.4</td>\n",
       "      <td>50.3</td>\n",
       "      <td>50.6</td>\n",
       "      <td>50.8</td>\n",
       "      <td>56.3</td>\n",
       "    </tr>\n",
       "    <tr>\n",
       "      <th>1</th>\n",
       "      <td>00:01:01</td>\n",
       "      <td>65.3</td>\n",
       "      <td>48.3</td>\n",
       "      <td>50.2</td>\n",
       "      <td>50.4</td>\n",
       "      <td>50.8</td>\n",
       "      <td>56.2</td>\n",
       "    </tr>\n",
       "    <tr>\n",
       "      <th>2</th>\n",
       "      <td>00:02:01</td>\n",
       "      <td>65.2</td>\n",
       "      <td>48.2</td>\n",
       "      <td>50.0</td>\n",
       "      <td>50.5</td>\n",
       "      <td>50.8</td>\n",
       "      <td>56.2</td>\n",
       "    </tr>\n",
       "    <tr>\n",
       "      <th>3</th>\n",
       "      <td>00:03:01</td>\n",
       "      <td>65.2</td>\n",
       "      <td>48.2</td>\n",
       "      <td>49.9</td>\n",
       "      <td>50.4</td>\n",
       "      <td>50.8</td>\n",
       "      <td>56.2</td>\n",
       "    </tr>\n",
       "    <tr>\n",
       "      <th>4</th>\n",
       "      <td>00:04:01</td>\n",
       "      <td>65.2</td>\n",
       "      <td>48.1</td>\n",
       "      <td>49.9</td>\n",
       "      <td>50.5</td>\n",
       "      <td>50.8</td>\n",
       "      <td>56.2</td>\n",
       "    </tr>\n",
       "    <tr>\n",
       "      <th>...</th>\n",
       "      <td>...</td>\n",
       "      <td>...</td>\n",
       "      <td>...</td>\n",
       "      <td>...</td>\n",
       "      <td>...</td>\n",
       "      <td>...</td>\n",
       "      <td>...</td>\n",
       "    </tr>\n",
       "    <tr>\n",
       "      <th>1435</th>\n",
       "      <td>23:55:30</td>\n",
       "      <td>54.3</td>\n",
       "      <td>44.7</td>\n",
       "      <td>44.4</td>\n",
       "      <td>47.6</td>\n",
       "      <td>45.1</td>\n",
       "      <td>45.4</td>\n",
       "    </tr>\n",
       "    <tr>\n",
       "      <th>1436</th>\n",
       "      <td>23:56:30</td>\n",
       "      <td>54.3</td>\n",
       "      <td>44.4</td>\n",
       "      <td>44.4</td>\n",
       "      <td>47.6</td>\n",
       "      <td>45.0</td>\n",
       "      <td>45.4</td>\n",
       "    </tr>\n",
       "    <tr>\n",
       "      <th>1437</th>\n",
       "      <td>23:57:30</td>\n",
       "      <td>54.3</td>\n",
       "      <td>44.5</td>\n",
       "      <td>44.3</td>\n",
       "      <td>47.4</td>\n",
       "      <td>45.1</td>\n",
       "      <td>45.5</td>\n",
       "    </tr>\n",
       "    <tr>\n",
       "      <th>1438</th>\n",
       "      <td>23:58:30</td>\n",
       "      <td>54.1</td>\n",
       "      <td>44.5</td>\n",
       "      <td>44.1</td>\n",
       "      <td>47.5</td>\n",
       "      <td>45.2</td>\n",
       "      <td>45.5</td>\n",
       "    </tr>\n",
       "    <tr>\n",
       "      <th>1439</th>\n",
       "      <td>23:59:30</td>\n",
       "      <td>53.8</td>\n",
       "      <td>44.9</td>\n",
       "      <td>44.3</td>\n",
       "      <td>47.2</td>\n",
       "      <td>45.2</td>\n",
       "      <td>45.4</td>\n",
       "    </tr>\n",
       "  </tbody>\n",
       "</table>\n",
       "<p>1440 rows × 7 columns</p>\n",
       "</div>"
      ],
      "text/plain": [
       "          Hour    S0    S1    S2    S3    S4    S5\n",
       "0     00:00:01  65.4  48.4  50.3  50.6  50.8  56.3\n",
       "1     00:01:01  65.3  48.3  50.2  50.4  50.8  56.2\n",
       "2     00:02:01  65.2  48.2  50.0  50.5  50.8  56.2\n",
       "3     00:03:01  65.2  48.2  49.9  50.4  50.8  56.2\n",
       "4     00:04:01  65.2  48.1  49.9  50.5  50.8  56.2\n",
       "...        ...   ...   ...   ...   ...   ...   ...\n",
       "1435  23:55:30  54.3  44.7  44.4  47.6  45.1  45.4\n",
       "1436  23:56:30  54.3  44.4  44.4  47.6  45.0  45.4\n",
       "1437  23:57:30  54.3  44.5  44.3  47.4  45.1  45.5\n",
       "1438  23:58:30  54.1  44.5  44.1  47.5  45.2  45.5\n",
       "1439  23:59:30  53.8  44.9  44.3  47.2  45.2  45.4\n",
       "\n",
       "[1440 rows x 7 columns]"
      ]
     },
     "execution_count": 3,
     "metadata": {},
     "output_type": "execute_result"
    }
   ],
   "source": [
    "df2019"
   ]
  },
  {
   "cell_type": "code",
   "execution_count": 4,
   "id": "8d0134e7-405e-4fa1-ac20-d93144e2f05c",
   "metadata": {},
   "outputs": [
    {
     "data": {
      "text/html": [
       "<div>\n",
       "<style scoped>\n",
       "    .dataframe tbody tr th:only-of-type {\n",
       "        vertical-align: middle;\n",
       "    }\n",
       "\n",
       "    .dataframe tbody tr th {\n",
       "        vertical-align: top;\n",
       "    }\n",
       "\n",
       "    .dataframe thead th {\n",
       "        text-align: right;\n",
       "    }\n",
       "</style>\n",
       "<table border=\"1\" class=\"dataframe\">\n",
       "  <thead>\n",
       "    <tr style=\"text-align: right;\">\n",
       "      <th></th>\n",
       "      <th>Hour</th>\n",
       "      <th>S0</th>\n",
       "      <th>S1</th>\n",
       "      <th>S2</th>\n",
       "      <th>S3</th>\n",
       "      <th>S4</th>\n",
       "      <th>S5</th>\n",
       "    </tr>\n",
       "  </thead>\n",
       "  <tbody>\n",
       "    <tr>\n",
       "      <th>0</th>\n",
       "      <td>00:00:30</td>\n",
       "      <td>60.0</td>\n",
       "      <td>50.1</td>\n",
       "      <td>43.8</td>\n",
       "      <td>47.4</td>\n",
       "      <td>49.4</td>\n",
       "      <td>40.0</td>\n",
       "    </tr>\n",
       "    <tr>\n",
       "      <th>1</th>\n",
       "      <td>00:01:30</td>\n",
       "      <td>59.7</td>\n",
       "      <td>49.7</td>\n",
       "      <td>43.3</td>\n",
       "      <td>47.1</td>\n",
       "      <td>49.1</td>\n",
       "      <td>39.9</td>\n",
       "    </tr>\n",
       "    <tr>\n",
       "      <th>2</th>\n",
       "      <td>00:02:30</td>\n",
       "      <td>59.6</td>\n",
       "      <td>49.2</td>\n",
       "      <td>43.1</td>\n",
       "      <td>46.9</td>\n",
       "      <td>48.8</td>\n",
       "      <td>39.9</td>\n",
       "    </tr>\n",
       "    <tr>\n",
       "      <th>3</th>\n",
       "      <td>00:03:30</td>\n",
       "      <td>59.3</td>\n",
       "      <td>49.2</td>\n",
       "      <td>43.2</td>\n",
       "      <td>46.6</td>\n",
       "      <td>48.7</td>\n",
       "      <td>39.6</td>\n",
       "    </tr>\n",
       "    <tr>\n",
       "      <th>4</th>\n",
       "      <td>00:04:30</td>\n",
       "      <td>59.4</td>\n",
       "      <td>48.7</td>\n",
       "      <td>42.9</td>\n",
       "      <td>46.3</td>\n",
       "      <td>48.3</td>\n",
       "      <td>39.3</td>\n",
       "    </tr>\n",
       "    <tr>\n",
       "      <th>...</th>\n",
       "      <td>...</td>\n",
       "      <td>...</td>\n",
       "      <td>...</td>\n",
       "      <td>...</td>\n",
       "      <td>...</td>\n",
       "      <td>...</td>\n",
       "      <td>...</td>\n",
       "    </tr>\n",
       "    <tr>\n",
       "      <th>1434</th>\n",
       "      <td>23:55:00</td>\n",
       "      <td>61.9</td>\n",
       "      <td>53.1</td>\n",
       "      <td>46.9</td>\n",
       "      <td>47.2</td>\n",
       "      <td>52.0</td>\n",
       "      <td>48.0</td>\n",
       "    </tr>\n",
       "    <tr>\n",
       "      <th>1435</th>\n",
       "      <td>23:56:00</td>\n",
       "      <td>61.7</td>\n",
       "      <td>53.5</td>\n",
       "      <td>46.8</td>\n",
       "      <td>47.7</td>\n",
       "      <td>51.9</td>\n",
       "      <td>48.0</td>\n",
       "    </tr>\n",
       "    <tr>\n",
       "      <th>1436</th>\n",
       "      <td>23:57:00</td>\n",
       "      <td>61.4</td>\n",
       "      <td>53.5</td>\n",
       "      <td>46.4</td>\n",
       "      <td>48.5</td>\n",
       "      <td>51.6</td>\n",
       "      <td>48.0</td>\n",
       "    </tr>\n",
       "    <tr>\n",
       "      <th>1437</th>\n",
       "      <td>23:58:00</td>\n",
       "      <td>61.9</td>\n",
       "      <td>53.5</td>\n",
       "      <td>46.1</td>\n",
       "      <td>49.5</td>\n",
       "      <td>51.4</td>\n",
       "      <td>48.0</td>\n",
       "    </tr>\n",
       "    <tr>\n",
       "      <th>1438</th>\n",
       "      <td>23:59:00</td>\n",
       "      <td>61.9</td>\n",
       "      <td>53.6</td>\n",
       "      <td>45.9</td>\n",
       "      <td>50.1</td>\n",
       "      <td>51.2</td>\n",
       "      <td>48.0</td>\n",
       "    </tr>\n",
       "  </tbody>\n",
       "</table>\n",
       "<p>1439 rows × 7 columns</p>\n",
       "</div>"
      ],
      "text/plain": [
       "          Hour    S0    S1    S2    S3    S4    S5\n",
       "0     00:00:30  60.0  50.1  43.8  47.4  49.4  40.0\n",
       "1     00:01:30  59.7  49.7  43.3  47.1  49.1  39.9\n",
       "2     00:02:30  59.6  49.2  43.1  46.9  48.8  39.9\n",
       "3     00:03:30  59.3  49.2  43.2  46.6  48.7  39.6\n",
       "4     00:04:30  59.4  48.7  42.9  46.3  48.3  39.3\n",
       "...        ...   ...   ...   ...   ...   ...   ...\n",
       "1434  23:55:00  61.9  53.1  46.9  47.2  52.0  48.0\n",
       "1435  23:56:00  61.7  53.5  46.8  47.7  51.9  48.0\n",
       "1436  23:57:00  61.4  53.5  46.4  48.5  51.6  48.0\n",
       "1437  23:58:00  61.9  53.5  46.1  49.5  51.4  48.0\n",
       "1438  23:59:00  61.9  53.6  45.9  50.1  51.2  48.0\n",
       "\n",
       "[1439 rows x 7 columns]"
      ]
     },
     "execution_count": 4,
     "metadata": {},
     "output_type": "execute_result"
    }
   ],
   "source": [
    "df2020"
   ]
  },
  {
   "cell_type": "code",
   "execution_count": 5,
   "id": "a9d8651d-eb2e-4d36-aaf8-b11d9518afe4",
   "metadata": {},
   "outputs": [
    {
     "data": {
      "text/html": [
       "<div>\n",
       "<style scoped>\n",
       "    .dataframe tbody tr th:only-of-type {\n",
       "        vertical-align: middle;\n",
       "    }\n",
       "\n",
       "    .dataframe tbody tr th {\n",
       "        vertical-align: top;\n",
       "    }\n",
       "\n",
       "    .dataframe thead th {\n",
       "        text-align: right;\n",
       "    }\n",
       "</style>\n",
       "<table border=\"1\" class=\"dataframe\">\n",
       "  <thead>\n",
       "    <tr style=\"text-align: right;\">\n",
       "      <th></th>\n",
       "      <th>Hour</th>\n",
       "      <th>S0</th>\n",
       "      <th>S1</th>\n",
       "      <th>S2</th>\n",
       "      <th>S3</th>\n",
       "      <th>S4</th>\n",
       "      <th>S5</th>\n",
       "      <th>Godina</th>\n",
       "    </tr>\n",
       "  </thead>\n",
       "  <tbody>\n",
       "    <tr>\n",
       "      <th>0</th>\n",
       "      <td>00:00:54</td>\n",
       "      <td>54.8</td>\n",
       "      <td>50.4</td>\n",
       "      <td>49.8</td>\n",
       "      <td>49.4</td>\n",
       "      <td>50.6</td>\n",
       "      <td>47.5</td>\n",
       "      <td>2018</td>\n",
       "    </tr>\n",
       "    <tr>\n",
       "      <th>1</th>\n",
       "      <td>00:01:54</td>\n",
       "      <td>54.1</td>\n",
       "      <td>50.2</td>\n",
       "      <td>49.6</td>\n",
       "      <td>49.4</td>\n",
       "      <td>50.7</td>\n",
       "      <td>47.5</td>\n",
       "      <td>2018</td>\n",
       "    </tr>\n",
       "    <tr>\n",
       "      <th>2</th>\n",
       "      <td>00:02:54</td>\n",
       "      <td>54.2</td>\n",
       "      <td>50.5</td>\n",
       "      <td>49.9</td>\n",
       "      <td>49.3</td>\n",
       "      <td>50.4</td>\n",
       "      <td>47.3</td>\n",
       "      <td>2018</td>\n",
       "    </tr>\n",
       "    <tr>\n",
       "      <th>3</th>\n",
       "      <td>00:03:54</td>\n",
       "      <td>54.6</td>\n",
       "      <td>50.5</td>\n",
       "      <td>50.0</td>\n",
       "      <td>49.2</td>\n",
       "      <td>50.4</td>\n",
       "      <td>47.3</td>\n",
       "      <td>2018</td>\n",
       "    </tr>\n",
       "    <tr>\n",
       "      <th>4</th>\n",
       "      <td>00:04:54</td>\n",
       "      <td>55.0</td>\n",
       "      <td>50.5</td>\n",
       "      <td>49.9</td>\n",
       "      <td>49.2</td>\n",
       "      <td>50.4</td>\n",
       "      <td>47.3</td>\n",
       "      <td>2018</td>\n",
       "    </tr>\n",
       "    <tr>\n",
       "      <th>...</th>\n",
       "      <td>...</td>\n",
       "      <td>...</td>\n",
       "      <td>...</td>\n",
       "      <td>...</td>\n",
       "      <td>...</td>\n",
       "      <td>...</td>\n",
       "      <td>...</td>\n",
       "      <td>...</td>\n",
       "    </tr>\n",
       "    <tr>\n",
       "      <th>4314</th>\n",
       "      <td>23:55:00</td>\n",
       "      <td>61.9</td>\n",
       "      <td>53.1</td>\n",
       "      <td>46.9</td>\n",
       "      <td>47.2</td>\n",
       "      <td>52.0</td>\n",
       "      <td>48.0</td>\n",
       "      <td>2020</td>\n",
       "    </tr>\n",
       "    <tr>\n",
       "      <th>4315</th>\n",
       "      <td>23:56:00</td>\n",
       "      <td>61.7</td>\n",
       "      <td>53.5</td>\n",
       "      <td>46.8</td>\n",
       "      <td>47.7</td>\n",
       "      <td>51.9</td>\n",
       "      <td>48.0</td>\n",
       "      <td>2020</td>\n",
       "    </tr>\n",
       "    <tr>\n",
       "      <th>4316</th>\n",
       "      <td>23:57:00</td>\n",
       "      <td>61.4</td>\n",
       "      <td>53.5</td>\n",
       "      <td>46.4</td>\n",
       "      <td>48.5</td>\n",
       "      <td>51.6</td>\n",
       "      <td>48.0</td>\n",
       "      <td>2020</td>\n",
       "    </tr>\n",
       "    <tr>\n",
       "      <th>4317</th>\n",
       "      <td>23:58:00</td>\n",
       "      <td>61.9</td>\n",
       "      <td>53.5</td>\n",
       "      <td>46.1</td>\n",
       "      <td>49.5</td>\n",
       "      <td>51.4</td>\n",
       "      <td>48.0</td>\n",
       "      <td>2020</td>\n",
       "    </tr>\n",
       "    <tr>\n",
       "      <th>4318</th>\n",
       "      <td>23:59:00</td>\n",
       "      <td>61.9</td>\n",
       "      <td>53.6</td>\n",
       "      <td>45.9</td>\n",
       "      <td>50.1</td>\n",
       "      <td>51.2</td>\n",
       "      <td>48.0</td>\n",
       "      <td>2020</td>\n",
       "    </tr>\n",
       "  </tbody>\n",
       "</table>\n",
       "<p>4319 rows × 8 columns</p>\n",
       "</div>"
      ],
      "text/plain": [
       "          Hour    S0    S1    S2    S3    S4    S5  Godina\n",
       "0     00:00:54  54.8  50.4  49.8  49.4  50.6  47.5    2018\n",
       "1     00:01:54  54.1  50.2  49.6  49.4  50.7  47.5    2018\n",
       "2     00:02:54  54.2  50.5  49.9  49.3  50.4  47.3    2018\n",
       "3     00:03:54  54.6  50.5  50.0  49.2  50.4  47.3    2018\n",
       "4     00:04:54  55.0  50.5  49.9  49.2  50.4  47.3    2018\n",
       "...        ...   ...   ...   ...   ...   ...   ...     ...\n",
       "4314  23:55:00  61.9  53.1  46.9  47.2  52.0  48.0    2020\n",
       "4315  23:56:00  61.7  53.5  46.8  47.7  51.9  48.0    2020\n",
       "4316  23:57:00  61.4  53.5  46.4  48.5  51.6  48.0    2020\n",
       "4317  23:58:00  61.9  53.5  46.1  49.5  51.4  48.0    2020\n",
       "4318  23:59:00  61.9  53.6  45.9  50.1  51.2  48.0    2020\n",
       "\n",
       "[4319 rows x 8 columns]"
      ]
     },
     "execution_count": 5,
     "metadata": {},
     "output_type": "execute_result"
    }
   ],
   "source": [
    "df2018['Godina'] = 2018\n",
    "df2019['Godina'] = 2019\n",
    "df2020['Godina'] = 2020\n",
    "\n",
    "df = pd.concat([df2018, df2019, df2020], ignore_index=True)\n",
    "df"
   ]
  },
  {
   "cell_type": "code",
   "execution_count": 6,
   "id": "b1e944d7-dc3b-4ad3-8df8-9ae9fcfea006",
   "metadata": {},
   "outputs": [
    {
     "name": "stdout",
     "output_type": "stream",
     "text": [
      "<class 'pandas.core.frame.DataFrame'>\n",
      "RangeIndex: 4319 entries, 0 to 4318\n",
      "Data columns (total 8 columns):\n",
      " #   Column  Non-Null Count  Dtype  \n",
      "---  ------  --------------  -----  \n",
      " 0   Hour    4319 non-null   object \n",
      " 1   S0      4319 non-null   float64\n",
      " 2   S1      4319 non-null   float64\n",
      " 3   S2      4319 non-null   float64\n",
      " 4   S3      4319 non-null   float64\n",
      " 5   S4      4319 non-null   float64\n",
      " 6   S5      4319 non-null   float64\n",
      " 7   Godina  4319 non-null   int64  \n",
      "dtypes: float64(6), int64(1), object(1)\n",
      "memory usage: 270.1+ KB\n"
     ]
    }
   ],
   "source": [
    "df.info()"
   ]
  },
  {
   "cell_type": "code",
   "execution_count": 7,
   "id": "6ab5104f-39d3-4c11-9be1-3e2d50920fe3",
   "metadata": {},
   "outputs": [
    {
     "data": {
      "text/plain": [
       "Index(['Hour', 'S0', 'S1', 'S2', 'S3', 'S4', 'S5', 'Godina'], dtype='object')"
      ]
     },
     "execution_count": 7,
     "metadata": {},
     "output_type": "execute_result"
    }
   ],
   "source": [
    "df.columns"
   ]
  },
  {
   "cell_type": "code",
   "execution_count": 8,
   "id": "cdbbf143-171e-474b-b10b-d6325e6cb40f",
   "metadata": {},
   "outputs": [],
   "source": [
    "import matplotlib.pyplot as plt\n",
    "import seaborn as sns\n",
    "from sklearn.linear_model import LinearRegression"
   ]
  },
  {
   "cell_type": "code",
   "execution_count": 9,
   "id": "33038788-bbc6-4d1b-b55e-c1a431243d73",
   "metadata": {},
   "outputs": [
    {
     "data": {
      "image/png": "[encoded data removed]",
      "text/plain": [
       "<Figure size 720x432 with 1 Axes>"
      ]
     },
     "metadata": {
      "needs_background": "light"
     },
     "output_type": "display_data"
    }
   ],
   "source": [
    "plt.figure(figsize=(10, 6))\n",
    "sns.lineplot(data=df, x='Godina', y='S1', marker='o', label='S1')\n",
    "sns.lineplot(data=df, x='Godina', y='S2', marker='o', label='S2')\n",
    "sns.lineplot(data=df, x='Godina', y='S3', marker='o', label='S3')\n",
    "plt.title('Promjena temperature ćelija kroz godine')\n",
    "plt.xlabel('Godina')\n",
    "plt.ylabel('Temperatura')\n",
    "plt.legend()\n",
    "plt.show()"
   ]
  },
  {
   "cell_type": "code",
   "execution_count": 10,
   "id": "05877129-5adc-47e9-a86d-62a7b1433661",
   "metadata": {},
   "outputs": [
    {
     "data": {
      "text/html": [
       "<div>\n",
       "<style scoped>\n",
       "    .dataframe tbody tr th:only-of-type {\n",
       "        vertical-align: middle;\n",
       "    }\n",
       "\n",
       "    .dataframe tbody tr th {\n",
       "        vertical-align: top;\n",
       "    }\n",
       "\n",
       "    .dataframe thead th {\n",
       "        text-align: right;\n",
       "    }\n",
       "</style>\n",
       "<table border=\"1\" class=\"dataframe\">\n",
       "  <thead>\n",
       "    <tr style=\"text-align: right;\">\n",
       "      <th></th>\n",
       "      <th>S0</th>\n",
       "      <th>S1</th>\n",
       "      <th>S2</th>\n",
       "      <th>S3</th>\n",
       "      <th>S4</th>\n",
       "      <th>S5</th>\n",
       "      <th>Godina</th>\n",
       "    </tr>\n",
       "  </thead>\n",
       "  <tbody>\n",
       "    <tr>\n",
       "      <th>count</th>\n",
       "      <td>4319.000000</td>\n",
       "      <td>4319.000000</td>\n",
       "      <td>4319.000000</td>\n",
       "      <td>4319.000000</td>\n",
       "      <td>4319.000000</td>\n",
       "      <td>4319.000000</td>\n",
       "      <td>4319.000000</td>\n",
       "    </tr>\n",
       "    <tr>\n",
       "      <th>mean</th>\n",
       "      <td>59.889674</td>\n",
       "      <td>50.662260</td>\n",
       "      <td>49.072169</td>\n",
       "      <td>49.366404</td>\n",
       "      <td>49.730401</td>\n",
       "      <td>49.981848</td>\n",
       "      <td>2018.999768</td>\n",
       "    </tr>\n",
       "    <tr>\n",
       "      <th>std</th>\n",
       "      <td>4.161334</td>\n",
       "      <td>2.970098</td>\n",
       "      <td>2.216115</td>\n",
       "      <td>2.051555</td>\n",
       "      <td>2.208687</td>\n",
       "      <td>3.509684</td>\n",
       "      <td>0.816544</td>\n",
       "    </tr>\n",
       "    <tr>\n",
       "      <th>min</th>\n",
       "      <td>49.000000</td>\n",
       "      <td>37.200000</td>\n",
       "      <td>39.200000</td>\n",
       "      <td>44.800000</td>\n",
       "      <td>44.000000</td>\n",
       "      <td>38.500000</td>\n",
       "      <td>2018.000000</td>\n",
       "    </tr>\n",
       "    <tr>\n",
       "      <th>25%</th>\n",
       "      <td>56.600000</td>\n",
       "      <td>48.300000</td>\n",
       "      <td>47.700000</td>\n",
       "      <td>47.700000</td>\n",
       "      <td>48.000000</td>\n",
       "      <td>47.600000</td>\n",
       "      <td>2018.000000</td>\n",
       "    </tr>\n",
       "    <tr>\n",
       "      <th>50%</th>\n",
       "      <td>60.700000</td>\n",
       "      <td>51.900000</td>\n",
       "      <td>49.300000</td>\n",
       "      <td>49.800000</td>\n",
       "      <td>49.800000</td>\n",
       "      <td>48.800000</td>\n",
       "      <td>2019.000000</td>\n",
       "    </tr>\n",
       "    <tr>\n",
       "      <th>75%</th>\n",
       "      <td>62.500000</td>\n",
       "      <td>52.700000</td>\n",
       "      <td>50.900000</td>\n",
       "      <td>50.900000</td>\n",
       "      <td>51.600000</td>\n",
       "      <td>52.000000</td>\n",
       "      <td>2020.000000</td>\n",
       "    </tr>\n",
       "    <tr>\n",
       "      <th>max</th>\n",
       "      <td>66.800000</td>\n",
       "      <td>56.400000</td>\n",
       "      <td>53.400000</td>\n",
       "      <td>56.300000</td>\n",
       "      <td>56.300000</td>\n",
       "      <td>58.100000</td>\n",
       "      <td>2020.000000</td>\n",
       "    </tr>\n",
       "  </tbody>\n",
       "</table>\n",
       "</div>"
      ],
      "text/plain": [
       "                S0           S1           S2           S3           S4  \\\n",
       "count  4319.000000  4319.000000  4319.000000  4319.000000  4319.000000   \n",
       "mean     59.889674    50.662260    49.072169    49.366404    49.730401   \n",
       "std       4.161334     2.970098     2.216115     2.051555     2.208687   \n",
       "min      49.000000    37.200000    39.200000    44.800000    44.000000   \n",
       "25%      56.600000    48.300000    47.700000    47.700000    48.000000   \n",
       "50%      60.700000    51.900000    49.300000    49.800000    49.800000   \n",
       "75%      62.500000    52.700000    50.900000    50.900000    51.600000   \n",
       "max      66.800000    56.400000    53.400000    56.300000    56.300000   \n",
       "\n",
       "                S5       Godina  \n",
       "count  4319.000000  4319.000000  \n",
       "mean     49.981848  2018.999768  \n",
       "std       3.509684     0.816544  \n",
       "min      38.500000  2018.000000  \n",
       "25%      47.600000  2018.000000  \n",
       "50%      48.800000  2019.000000  \n",
       "75%      52.000000  2020.000000  \n",
       "max      58.100000  2020.000000  "
      ]
     },
     "execution_count": 10,
     "metadata": {},
     "output_type": "execute_result"
    }
   ],
   "source": [
    "df.describe()"
   ]
  },
  {
   "cell_type": "code",
   "execution_count": 11,
   "id": "06946c6e-eaa7-4c37-84f8-e8dd1ec66587",
   "metadata": {},
   "outputs": [
    {
     "name": "stdout",
     "output_type": "stream",
     "text": [
      "Nedostajuće vrijednosti:\n",
      "Hour      0\n",
      "S0        0\n",
      "S1        0\n",
      "S2        0\n",
      "S3        0\n",
      "S4        0\n",
      "S5        0\n",
      "Godina    0\n",
      "dtype: int64\n"
     ]
    }
   ],
   "source": [
    "print(\"Nedostajuće vrijednosti:\")\n",
    "print(df.isnull().sum())"
   ]
  },
  {
   "cell_type": "markdown",
   "id": "204d3f20-7781-4ec3-9c2b-5d60dc28f49d",
   "metadata": {},
   "source": [
    "### Čisti podaci"
   ]
  },
  {
   "cell_type": "markdown",
   "id": "47940310-1f0a-4a28-a18e-8d0f81396680",
   "metadata": {},
   "source": [
    "Kao što možemo vidjeti, nema null-vrijednosti jer su svi podaci koji su dobiveni od čipa toplinske pumpe popunjeni. Čip pumpe sprema podatke u svoju bazu podataka, za sad se pokazao iznimno efikasnim i točnim. "
   ]
  },
  {
   "cell_type": "code",
   "execution_count": 12,
   "id": "0a1f7cf3-bbcd-4bc2-9698-4d1b0078e17e",
   "metadata": {},
   "outputs": [
    {
     "name": "stdout",
     "output_type": "stream",
     "text": [
      "Pregrijavanja ćelija:\n",
      "Empty DataFrame\n",
      "Columns: [Hour, S0, S1, S2, S3, S4, S5, Godina]\n",
      "Index: []\n"
     ]
    }
   ],
   "source": [
    "threshold = 75 \n",
    "anomalije = df[(df[['S1', 'S2', 'S3', 'S4', 'S5']] >= threshold).any(axis=1)]\n",
    "print(\"Pregrijavanja ćelija:\")\n",
    "print(anomalije)"
   ]
  },
  {
   "cell_type": "code",
   "execution_count": 13,
   "id": "4a247915-3322-4a16-960b-1fcdc08ee6db",
   "metadata": {},
   "outputs": [
    {
     "data": {
      "image/png": "[encoded data removed]",
      "text/plain": [
       "<Figure size 720x432 with 1 Axes>"
      ]
     },
     "metadata": {
      "needs_background": "light"
     },
     "output_type": "display_data"
    }
   ],
   "source": [
    "plt.figure(figsize=(10, 6))\n",
    "sns.boxplot(data=df, x='Godina', y='S1', palette='coolwarm')\n",
    "plt.title('Distribucija temperature ćelije S1 po godinama')\n",
    "plt.xlabel('Godina')\n",
    "plt.ylabel('Temperatura')\n",
    "plt.show()"
   ]
  },
  {
   "cell_type": "code",
   "execution_count": 14,
   "id": "386331fb-319c-4651-b4e4-ffc932571190",
   "metadata": {},
   "outputs": [
    {
     "name": "stdout",
     "output_type": "stream",
     "text": [
      "Korelacija između ćelija:\n",
      "          S1        S2        S3\n",
      "S1  1.000000  0.269816  0.091258\n",
      "S2  0.269816  1.000000  0.516215\n",
      "S3  0.091258  0.516215  1.000000\n"
     ]
    }
   ],
   "source": [
    "print(\"Korelacija između ćelija:\")\n",
    "print(df[['S1', 'S2', 'S3']].corr())"
   ]
  },
  {
   "cell_type": "code",
   "execution_count": 15,
   "id": "6b83070d-0149-4330-87a7-42ce546b484d",
   "metadata": {},
   "outputs": [
    {
     "data": {
      "image/png": "[encoded data removed]",
      "text/plain": [
       "<Figure size 576x432 with 2 Axes>"
      ]
     },
     "metadata": {
      "needs_background": "light"
     },
     "output_type": "display_data"
    }
   ],
   "source": [
    "plt.figure(figsize=(8, 6))\n",
    "sns.heatmap(df[['S1', 'S2', 'S3']].corr(), annot=True, cmap='coolwarm')\n",
    "plt.title('Korelacija između ćelija')\n",
    "plt.show()"
   ]
  },
  {
   "cell_type": "code",
   "execution_count": 16,
   "id": "7dc0dc4b-e616-480d-838a-8c444962b2e2",
   "metadata": {},
   "outputs": [
    {
     "data": {
      "text/plain": [
       "Index(['Hour', 'S0', 'S1', 'S2', 'S3', 'S4', 'S5', 'Godina'], dtype='object')"
      ]
     },
     "execution_count": 16,
     "metadata": {},
     "output_type": "execute_result"
    }
   ],
   "source": [
    "df.columns"
   ]
  },
  {
   "cell_type": "code",
   "execution_count": 17,
   "id": "dd7b73df-c0bc-45c4-9ba2-6b51247be370",
   "metadata": {},
   "outputs": [],
   "source": [
    "import matplotlib.pyplot as plt\n",
    "import seaborn as sns\n",
    "from sklearn.linear_model import LinearRegression\n",
    "\n",
    "cell_predictions = {}\n",
    "\n",
    "for column in ['S0', 'S1', 'S2', 'S3', 'S4', 'S5']:\n",
    "    X = df['Godina'].values.reshape(-1, 1) \n",
    "    y = df[column].values \n",
    "\n",
    "    model = LinearRegression()\n",
    "    model.fit(X, y)\n",
    "\n",
    "    target_temp = 75\n",
    "    predicted_year = (target_temp - model.intercept_) / model.coef_[0]\n",
    "\n",
    "    cell_predictions[column] = predicted_year"
   ]
  },
  {
   "cell_type": "code",
   "execution_count": 18,
   "id": "46768014-83f5-4168-8923-e8d24be13ea9",
   "metadata": {},
   "outputs": [
    {
     "name": "stdout",
     "output_type": "stream",
     "text": [
      "Ćelija S0 će doseći 75°C oko godine: 2024.09\n",
      "Ćelija S1 će doseći 75°C oko godine: 2069.71\n",
      "Ćelija S2 će doseći 75°C oko godine: 2000.18\n",
      "Ćelija S3 će doseći 75°C oko godine: 1986.85\n",
      "Ćelija S4 će doseći 75°C oko godine: 1999.72\n",
      "Ćelija S5 će doseći 75°C oko godine: 2513.08\n"
     ]
    }
   ],
   "source": [
    "for cell, year in cell_predictions.items():\n",
    "    print(f\"Ćelija {cell} će doseći 75°C oko godine: {year:.2f}\")"
   ]
  },
  {
   "cell_type": "code",
   "execution_count": 19,
   "id": "a48d7a11-7634-41ab-9d79-1af5014ded2c",
   "metadata": {},
   "outputs": [
    {
     "name": "stdout",
     "output_type": "stream",
     "text": [
      "Nema trenutnih pregrijavanja; predviđanja su prikazana gore.\n"
     ]
    }
   ],
   "source": [
    "anomalije = df[(df[['S0', 'S1', 'S2', 'S3', 'S4', 'S5']] >= 75).any(axis=1)]\n",
    "\n",
    "if not anomalije.empty:\n",
    "    print(\"Već postoje pregrijavanja u sljedećim redovima:\")\n",
    "    print(anomalije)\n",
    "else:\n",
    "    print(\"Nema trenutnih pregrijavanja; predviđanja su prikazana gore.\")"
   ]
  },
  {
   "cell_type": "markdown",
   "id": "20874c76-386f-4e83-8614-6b4217888715",
   "metadata": {},
   "source": [
    "## Objašnjenje predviđanja"
   ]
  },
  {
   "cell_type": "markdown",
   "id": "2e4b1515-6b5b-4e50-a437-39ca960ed9ae",
   "metadata": {},
   "source": [
    "Dakle kroz analizu ovih podataka i predviđanje linearnom regresijom vidimo da će do pregrijavanja doći 2024 godine, što je apsolutno točno, jer smo prije ovog ljeta (u firmi) čistili ćelije od kamenca kako bi spriječili pregrijavanje prve ćelije. Daljnje analize za S1, S2 i ostale ćelije nisu suviše točne jer bi za njih trebali analizirati puno veće skupove podatka, što i radimo kada su bitnije i relevantnije analize u pitanju (pregledavamo podatke svake minute kroz cijelu sezonu). "
   ]
  },
  {
   "cell_type": "markdown",
   "id": "b4b1c7b5-fb96-4499-b0c6-a57210cccd27",
   "metadata": {},
   "source": [
    "## Spremanje u bazu"
   ]
  },
  {
   "cell_type": "code",
   "execution_count": 20,
   "id": "c4095dc0-867d-4a92-bde5-625f90c2f2bb",
   "metadata": {},
   "outputs": [
    {
     "data": {
      "text/plain": [
       "4319"
      ]
     },
     "execution_count": 20,
     "metadata": {},
     "output_type": "execute_result"
    }
   ],
   "source": [
    "from sqlalchemy import create_engine\n",
    "import pymysql\n",
    "\n",
    "\n",
    "user = 'root'  \n",
    "password = ''  \n",
    "host = 'localhost'  \n",
    "database = 'pzap_projekt'  \n",
    "\n",
    "engine = create_engine(f\"mysql+pymysql://{user}:{password}@{host}/{database}\")\n",
    "\n",
    "df.to_sql('funtana_podaci', con=engine, if_exists='replace', index=False)"
   ]
  },
  {
   "cell_type": "code",
   "execution_count": 21,
   "id": "7afc2ada-601a-4da8-a403-e8b13fe4d399",
   "metadata": {},
   "outputs": [
    {
     "data": {
      "text/html": [
       "<div>\n",
       "<style scoped>\n",
       "    .dataframe tbody tr th:only-of-type {\n",
       "        vertical-align: middle;\n",
       "    }\n",
       "\n",
       "    .dataframe tbody tr th {\n",
       "        vertical-align: top;\n",
       "    }\n",
       "\n",
       "    .dataframe thead th {\n",
       "        text-align: right;\n",
       "    }\n",
       "</style>\n",
       "<table border=\"1\" class=\"dataframe\">\n",
       "  <thead>\n",
       "    <tr style=\"text-align: right;\">\n",
       "      <th></th>\n",
       "      <th>Hour</th>\n",
       "      <th>S0</th>\n",
       "      <th>S1</th>\n",
       "      <th>S2</th>\n",
       "      <th>S3</th>\n",
       "      <th>S4</th>\n",
       "      <th>S5</th>\n",
       "      <th>Godina</th>\n",
       "    </tr>\n",
       "  </thead>\n",
       "  <tbody>\n",
       "    <tr>\n",
       "      <th>0</th>\n",
       "      <td>00:00:54</td>\n",
       "      <td>54.8</td>\n",
       "      <td>50.4</td>\n",
       "      <td>49.8</td>\n",
       "      <td>49.4</td>\n",
       "      <td>50.6</td>\n",
       "      <td>47.5</td>\n",
       "      <td>2018</td>\n",
       "    </tr>\n",
       "    <tr>\n",
       "      <th>1</th>\n",
       "      <td>00:01:54</td>\n",
       "      <td>54.1</td>\n",
       "      <td>50.2</td>\n",
       "      <td>49.6</td>\n",
       "      <td>49.4</td>\n",
       "      <td>50.7</td>\n",
       "      <td>47.5</td>\n",
       "      <td>2018</td>\n",
       "    </tr>\n",
       "    <tr>\n",
       "      <th>2</th>\n",
       "      <td>00:02:54</td>\n",
       "      <td>54.2</td>\n",
       "      <td>50.5</td>\n",
       "      <td>49.9</td>\n",
       "      <td>49.3</td>\n",
       "      <td>50.4</td>\n",
       "      <td>47.3</td>\n",
       "      <td>2018</td>\n",
       "    </tr>\n",
       "    <tr>\n",
       "      <th>3</th>\n",
       "      <td>00:03:54</td>\n",
       "      <td>54.6</td>\n",
       "      <td>50.5</td>\n",
       "      <td>50.0</td>\n",
       "      <td>49.2</td>\n",
       "      <td>50.4</td>\n",
       "      <td>47.3</td>\n",
       "      <td>2018</td>\n",
       "    </tr>\n",
       "    <tr>\n",
       "      <th>4</th>\n",
       "      <td>00:04:54</td>\n",
       "      <td>55.0</td>\n",
       "      <td>50.5</td>\n",
       "      <td>49.9</td>\n",
       "      <td>49.2</td>\n",
       "      <td>50.4</td>\n",
       "      <td>47.3</td>\n",
       "      <td>2018</td>\n",
       "    </tr>\n",
       "    <tr>\n",
       "      <th>...</th>\n",
       "      <td>...</td>\n",
       "      <td>...</td>\n",
       "      <td>...</td>\n",
       "      <td>...</td>\n",
       "      <td>...</td>\n",
       "      <td>...</td>\n",
       "      <td>...</td>\n",
       "      <td>...</td>\n",
       "    </tr>\n",
       "    <tr>\n",
       "      <th>4314</th>\n",
       "      <td>23:55:00</td>\n",
       "      <td>61.9</td>\n",
       "      <td>53.1</td>\n",
       "      <td>46.9</td>\n",
       "      <td>47.2</td>\n",
       "      <td>52.0</td>\n",
       "      <td>48.0</td>\n",
       "      <td>2020</td>\n",
       "    </tr>\n",
       "    <tr>\n",
       "      <th>4315</th>\n",
       "      <td>23:56:00</td>\n",
       "      <td>61.7</td>\n",
       "      <td>53.5</td>\n",
       "      <td>46.8</td>\n",
       "      <td>47.7</td>\n",
       "      <td>51.9</td>\n",
       "      <td>48.0</td>\n",
       "      <td>2020</td>\n",
       "    </tr>\n",
       "    <tr>\n",
       "      <th>4316</th>\n",
       "      <td>23:57:00</td>\n",
       "      <td>61.4</td>\n",
       "      <td>53.5</td>\n",
       "      <td>46.4</td>\n",
       "      <td>48.5</td>\n",
       "      <td>51.6</td>\n",
       "      <td>48.0</td>\n",
       "      <td>2020</td>\n",
       "    </tr>\n",
       "    <tr>\n",
       "      <th>4317</th>\n",
       "      <td>23:58:00</td>\n",
       "      <td>61.9</td>\n",
       "      <td>53.5</td>\n",
       "      <td>46.1</td>\n",
       "      <td>49.5</td>\n",
       "      <td>51.4</td>\n",
       "      <td>48.0</td>\n",
       "      <td>2020</td>\n",
       "    </tr>\n",
       "    <tr>\n",
       "      <th>4318</th>\n",
       "      <td>23:59:00</td>\n",
       "      <td>61.9</td>\n",
       "      <td>53.6</td>\n",
       "      <td>45.9</td>\n",
       "      <td>50.1</td>\n",
       "      <td>51.2</td>\n",
       "      <td>48.0</td>\n",
       "      <td>2020</td>\n",
       "    </tr>\n",
       "  </tbody>\n",
       "</table>\n",
       "<p>4319 rows × 8 columns</p>\n",
       "</div>"
      ],
      "text/plain": [
       "          Hour    S0    S1    S2    S3    S4    S5  Godina\n",
       "0     00:00:54  54.8  50.4  49.8  49.4  50.6  47.5    2018\n",
       "1     00:01:54  54.1  50.2  49.6  49.4  50.7  47.5    2018\n",
       "2     00:02:54  54.2  50.5  49.9  49.3  50.4  47.3    2018\n",
       "3     00:03:54  54.6  50.5  50.0  49.2  50.4  47.3    2018\n",
       "4     00:04:54  55.0  50.5  49.9  49.2  50.4  47.3    2018\n",
       "...        ...   ...   ...   ...   ...   ...   ...     ...\n",
       "4314  23:55:00  61.9  53.1  46.9  47.2  52.0  48.0    2020\n",
       "4315  23:56:00  61.7  53.5  46.8  47.7  51.9  48.0    2020\n",
       "4316  23:57:00  61.4  53.5  46.4  48.5  51.6  48.0    2020\n",
       "4317  23:58:00  61.9  53.5  46.1  49.5  51.4  48.0    2020\n",
       "4318  23:59:00  61.9  53.6  45.9  50.1  51.2  48.0    2020\n",
       "\n",
       "[4319 rows x 8 columns]"
      ]
     },
     "execution_count": 21,
     "metadata": {},
     "output_type": "execute_result"
    }
   ],
   "source": [
    "df"
   ]
  },
  {
   "cell_type": "code",
   "execution_count": 27,
   "id": "c4a500f1-acb0-4f88-ba16-13b712c6e02d",
   "metadata": {},
   "outputs": [
    {
     "name": "stderr",
     "output_type": "stream",
     "text": [
      " * Running on http://localhost:5000/ (Press CTRL+C to quit)\n",
      "127.0.0.1 - - [19/Jan/2025 08:32:37] \"GET / HTTP/1.1\" 200 -\n",
      "127.0.0.1 - - [19/Jan/2025 08:32:37] \"GET /favicon.ico HTTP/1.1\" 404 -\n",
      "127.0.0.1 - - [19/Jan/2025 08:32:41] \"GET /data HTTP/1.1\" 200 -\n",
      "127.0.0.1 - - [19/Jan/2025 08:33:18] \"GET /data/year/2020 HTTP/1.1\" 200 -\n",
      "127.0.0.1 - - [19/Jan/2025 08:33:49] \"GET /predictions HTTP/1.1\" 200 -\n",
      "127.0.0.1 - - [19/Jan/2025 08:33:49] \"GET /favicon.ico HTTP/1.1\" 404 -\n"
     ]
    }
   ],
   "source": [
    "from flask import Flask, jsonify, request, Response\n",
    "\n",
    "app = Flask(__name__)\n",
    "\n",
    "\n",
    "cell_predictions = {\n",
    "    'S0': 2024.09,\n",
    "    'S1': 2069.71,\n",
    "    'S2': 2000.18,\n",
    "    'S3': 1986.85,\n",
    "    'S4': 1999.72,\n",
    "    'S5': 2513.08\n",
    "}\n",
    "\n",
    "\n",
    "@app.route('/')\n",
    "def home():\n",
    "    return \"API for Data Analysis and Predictions\"\n",
    "\n",
    "@app.route('/data', methods=['GET'])\n",
    "def get_data():\n",
    "    formatted_df = df.copy()\n",
    "    formatted_df['Hour'] = formatted_df['Hour'].astype(str)  \n",
    "    return jsonify(formatted_df.to_dict(orient='records'))  \n",
    "\n",
    "@app.route('/data/year/<int:year>', methods=['GET'])\n",
    "def get_data_by_year(year):\n",
    "    filtered_data = df[df['Godina'] == year]\n",
    "    if filtered_data.empty:\n",
    "        return jsonify({\"error\": f\"Nema podataka za godinu {year}\"}), 404\n",
    "    formatted_data = filtered_data.copy()\n",
    "    formatted_data['Hour'] = formatted_data['Hour'].astype(str)\n",
    "    return jsonify(formatted_data.to_dict(orient='records'))\n",
    "\n",
    "@app.route('/predictions', methods=['GET'])\n",
    "def get_predictions():\n",
    "    return jsonify(cell_predictions)\n",
    "\n",
    "if __name__ == '__main__':\n",
    "    from werkzeug.serving import run_simple\n",
    "    run_simple('localhost', 5000, app, use_reloader=False)"
   ]
  },
  {
   "cell_type": "markdown",
   "id": "08e634b4-1636-4dde-b07b-bef2c4af8d9a",
   "metadata": {},
   "source": [
    "### Opis implementacije"
   ]
  },
  {
   "cell_type": "markdown",
   "id": "7e98c248-bb8d-4bce-9376-76cf2008a74a",
   "metadata": {},
   "source": [
    "        Podaci za analizu dolaze iz tvrtke u kojoj trenutno radim, s ovim podacima smo radili prije godinu dana kako bi predvidjeli sljedeće pregrijavanje koje bi se zasigurno desilo na ljeto 2024. Tako da je naše predviđanje pregrijavanja ćelije S1 zapravo stvorilo veliku uštedu za našeg poslodavca i za nas same. Za ovaj projekt uzeo sam 3 različite godine (2018., 2019. i 2020.) na 3 ista datuma, te su učitane u formatu CSV i Excel datoteka. Svaki skup podataka sadrži temperature nekoliko ćelija (S0 do S5) tijekom dana, zabilježene svakih nekoliko minuta. Nakon učitavanja podataka pomoću biblioteka pandas i numpy, podaci su objedinjeni u jedan DataFrame kako bi se omogućila analiza višegodišnjih trendova.\n",
    "\n",
    "        Za vizualizaciju su korištene biblioteke matplotlib i seaborn. Prikazani su trendovi promjena temperatura za pojedine ćelije kroz godine, kao i distribucija temperatura pojedinih ćelija. Također, izračunata je korelacija između ćelija kako bi se uočila međusobna povezanost temperaturnih vrijednosti.\n",
    "\n",
    "        Osim analize postojećih podataka, korištena je linearna regresija iz kolegija \"Uvod u umjetnu inteligenciju\" za predviđanje trenutka kada bi temperature mogle dosegnuti kritičnu razinu (75°C). Ova predikcija napravljena je uz pomoć biblioteke scikit-learn. Rezultati su pohranjeni u MySQL bazu podataka (koju smo podigli pomoću XAMPP kontrolnog panela i Apache servera, a izrađena je u MqSql Workbenchu) koristeći SQLAlchemy, čime je omogućeno dugoročno čuvanje i pristup podacima."
   ]
  },
  {
   "cell_type": "markdown",
   "id": "627a6395-77a4-435b-bda7-656cd87ba4dd",
   "metadata": {},
   "source": [
    "### Kritički osvrt"
   ]
  },
  {
   "cell_type": "markdown",
   "id": "2175108c-6b2c-4082-9554-95f3b092bfbf",
   "metadata": {},
   "source": [
    "        Praktična izvedivost ove analize pokazala se vrlo korisnom za preventivno održavanje sustava toplinskih pumpi. Pravovremeno predviđanje pregrijavanja omogućuje donošenje proaktivnih odluka koje mogu spriječiti kvarove i smanjiti troškove održavanja. Ipak, ograničenost dostupnih podataka (samo tri godine i intervali prikupljanja podataka) utječe na točnost predikcija, posebno za ćelije koje pokazuju stabilnije temperaturne vrijednosti.\n",
    "\n",
    "        Za preciznija predviđanja bilo bi potrebno proširiti vremenski period analize te povećati frekvenciju prikupljanja podataka. Također, dodatne varijable (poput okolišnih uvjeta i opterećenja sustava) mogle bi značajno unaprijediti analitičke modele. Unatoč tim ograničenjima, implementirani sustav pruža korisne uvide i potvrđuje svoju praktičnu primjenjivost."
   ]
  },
  {
   "cell_type": "markdown",
   "id": "6d15f556-91d7-4860-b289-789d498be5ff",
   "metadata": {},
   "source": [
    "### Prikaz rada aplikacije"
   ]
  },
  {
   "cell_type": "markdown",
   "id": "9cae6683-c566-4098-82bc-bb7cca7835f8",
   "metadata": {},
   "source": [
    "        Aplikacija je omogućila vizualizaciju promjena temperatura kroz godine, distribuciju temperaturnih vrijednosti i identifikaciju mogućih pregrijavanja. Na primjer, prikaz linijskog grafa jasno pokazuje kako se temperature pojedinih ćelija mijenjaju kroz vrijeme, dok boxplot vizualizacija daje uvid u raspon i medijane temperatura po godinama.\n",
    "\n",
    "        Linearni regresijski model predvidio je da će prva ćelija (S0) dosegnuti kritičnu razinu temperature već 2024. godine. Ovo je u skladu s prethodnim iskustvima, jer su u firmi provedeni radovi na čišćenju ćelija kako bi se spriječilo pregrijavanje. Za ostale ćelije predikcije nisu bile toliko precizne zbog ograničenosti skupa podataka, no rezultati pokazuju potrebu za daljnjim praćenjem i analizom.\n",
    "\n",
    "        Aplikacija je detektirala da trenutno nema podataka o pregrijavanju, što dodatno potvrđuje da su mjere održavanja bile uspješne. Sve prikupljene i obrađene podatke aplikacija pohranjuje u MySQL bazu podataka, čime se osigurava trajna dostupnost za buduće analize.\n",
    "        \n",
    "        Dolje možemo divjeti i neke slike (phpMyAdmin sučelja, XAMPP panela, SQL koda za bazu podataka)"
   ]
  },
  {
   "cell_type": "markdown",
   "id": "d43ba919-5243-41fe-972e-0caee7296165",
   "metadata": {},
   "source": [
    "![phpMyAdmin](img/admin_php.png)"
   ]
  },
  {
   "cell_type": "markdown",
   "id": "4001e9ea-a883-445e-b387-35b79cf44a85",
   "metadata": {},
   "source": [
    "![xampp](img/xampp.png)"
   ]
  },
  {
   "cell_type": "markdown",
   "id": "3a41223b-79c6-4fb9-8adc-235e66f840f6",
   "metadata": {},
   "source": [
    "![title1](img/sql_kod.png)"
   ]
  },
  {
   "cell_type": "markdown",
   "id": "3ecd534c-2622-4c9a-ab2a-16c90171c627",
   "metadata": {},
   "source": [
    "        Nakon svega odlučio sam još podići i REST API straincu koja predstavlja jedno interaktivno sučelje preko kojeg korisnik može doći do određenih podataka poput: /data (prikazuje dataframe), /predictions (prikazuje predviđanja do kojih smo došli) i /data/year/2018 (prikazuje dataframe za određenu godinu koju korisnik može odabrati). A dolje je i nekoliko slika nevedenog REST API-ja..."
   ]
  },
  {
   "cell_type": "markdown",
   "id": "f8d52aaa-c9f2-4714-8f32-df902cf8841f",
   "metadata": {},
   "source": [
    "![title2](img/rest1.png)"
   ]
  },
  {
   "cell_type": "markdown",
   "id": "5c940deb-d045-43bb-839a-ab7e0dec7a33",
   "metadata": {},
   "source": [
    "![title](img/rest2.png)"
   ]
  },
  {
   "cell_type": "markdown",
   "id": "deeacce9-e483-4758-b716-676478c77a49",
   "metadata": {},
   "source": [
    "![title](img/rest3.png)"
   ]
  },
  {
   "cell_type": "markdown",
   "id": "47f64e69-aad4-46f0-a311-3ec0624cddcb",
   "metadata": {},
   "source": [
    "### Zaključak"
   ]
  },
  {
   "cell_type": "markdown",
   "id": "1909e222-c169-44ec-912c-9bfe122f1db4",
   "metadata": {},
   "source": [
    "        Provedena analiza i implementacija demonstrirale su važnost sustavnog praćenja i predikcije u radu toplinskih pumpi. Kombiniranjem povijesnih podataka, analitičkih metoda i strojnog učenja omogućeno je rano prepoznavanje rizika, što smanjuje potencijalne gubitke i osigurava pouzdan rad sustava. Ova aplikacija predstavlja temelj za daljnji razvoj sustava nadzora i predikcije koji bi se mogao proširiti na složenije sustave i veće podatkovne skupove."
   ]
  },
  {
   "cell_type": "markdown",
   "id": "e361206b-01ff-4923-8829-d12f5fba1c0e",
   "metadata": {},
   "source": [
    "### Literatura"
   ]
  },
  {
   "cell_type": "markdown",
   "id": "a574256e-4ec2-4ee5-ab7d-a51e39546f92",
   "metadata": {},
   "source": [
    "## Literatura\n",
    "\n",
    "1. **Pedregosa, F., Varoquaux, G., Gramfort, A., Michel, V., Thirion, B., Grisel, O., ... & Duchesnay, É. (2011).** *Scikit-learn: Machine learning in Python*. Journal of Machine Learning Research, 12, 2825-2830.  \n",
    "\n",
    "2. **Waskom, M. L. (2021).** *Seaborn: statistical data visualization*. Journal of Open Source Software, 6(60), 3021.  \n",
    "\n",
    "3. **Pérez, F., & Granger, B. E. (2007).** *IPython: A System for Interactive Scientific Computing*. Computing in Science & Engineering, 9(3), 21-29.  \n",
    "\n",
    "4. **McKinney, W. (2018)** *Python for Data Analysis*, O'Reilly, USA."
   ]
  }
 ],
 "metadata": {
  "kernelspec": {
   "display_name": "Python 3 (ipykernel)",
   "language": "python",
   "name": "python3"
  },
  "language_info": {
   "codemirror_mode": {
    "name": "ipython",
    "version": 3
   },
   "file_extension": ".py",
   "mimetype": "text/x-python",
   "name": "python",
   "nbconvert_exporter": "python",
   "pygments_lexer": "ipython3",
   "version": "3.9.12"
  }
 },
 "nbformat": 4,
 "nbformat_minor": 5
}
